{
  "nbformat": 4,
  "nbformat_minor": 0,
  "metadata": {
    "colab": {
      "name": "Happiness.txt",
      "provenance": [],
      "include_colab_link": true
    },
    "kernelspec": {
      "name": "python3",
      "display_name": "Python 3"
    },
    "language_info": {
      "name": "python"
    }
  },
  "cells": [
    {
      "cell_type": "markdown",
      "metadata": {
        "id": "view-in-github",
        "colab_type": "text"
      },
      "source": [
        "<a href=\"https://colab.research.google.com/github/SabariRIT/dataScience/blob/main/Happiness_txt.ipynb\" target=\"_parent\"><img src=\"https://colab.research.google.com/assets/colab-badge.svg\" alt=\"Open In Colab\"/></a>"
      ]
    },
    {
      "cell_type": "code",
      "metadata": {
        "id": "bp7k6rS_AHMN"
      },
      "source": [
        "import numpy as np \n",
        "import pandas as pd \n",
        "import matplotlib.pyplot as plt\n",
        "import seaborn as sns"
      ],
      "execution_count": 1,
      "outputs": []
    },
    {
      "cell_type": "code",
      "metadata": {
        "id": "u51LwSeWAcjN",
        "colab": {
          "base_uri": "https://localhost:8080/"
        },
        "outputId": "7135cc5d-e777-4da2-c52c-df611ac6813a"
      },
      "source": [
        "data = pd.read_csv('2015.csv')\n",
        "data.info()"
      ],
      "execution_count": 2,
      "outputs": [
        {
          "output_type": "stream",
          "name": "stdout",
          "text": [
            "<class 'pandas.core.frame.DataFrame'>\n",
            "Index: 0 entries\n",
            "Data columns (total 1 columns):\n",
            " #   Column                    Non-Null Count  Dtype \n",
            "---  ------                    --------------  ----- \n",
            " 0           1 file(s) moved.  0 non-null      object\n",
            "dtypes: object(1)\n",
            "memory usage: 0.0+ bytes\n"
          ]
        }
      ]
    },
    {
      "cell_type": "code",
      "metadata": {
        "id": "V3IgYSL8AmGm"
      },
      "source": [
        "data.describe()"
      ],
      "execution_count": null,
      "outputs": []
    },
    {
      "cell_type": "code",
      "metadata": {
        "id": "d9D3UojHAsI-"
      },
      "source": [
        "data.head()"
      ],
      "execution_count": null,
      "outputs": []
    },
    {
      "cell_type": "code",
      "metadata": {
        "id": "75Avpd-BAwC9"
      },
      "source": [
        "data[data['Country'] == 'Canada']"
      ],
      "execution_count": null,
      "outputs": []
    },
    {
      "cell_type": "code",
      "metadata": {
        "id": "JJaFseGeA2Zl"
      },
      "source": [
        "data[data['Region'] == 'North America']"
      ],
      "execution_count": null,
      "outputs": []
    },
    {
      "cell_type": "code",
      "metadata": {
        "id": "4pe7jkvZA7Ft"
      },
      "source": [
        "data['Region'].unique()"
      ],
      "execution_count": null,
      "outputs": []
    },
    {
      "cell_type": "code",
      "metadata": {
        "id": "W78NQMkeA_Oe"
      },
      "source": [
        "for region in data['Region'].unique():\n",
        "    print(len(data[data['Region'] == region]), region)"
      ],
      "execution_count": null,
      "outputs": []
    },
    {
      "cell_type": "code",
      "metadata": {
        "id": "TiLMckgHBIF1"
      },
      "source": [
        "rows_list=[]\n",
        "for region in data['Region'].unique():\n",
        "    happinessRankSum = data.loc[data['Region'] == region]['Happiness Rank'].sum()\n",
        "    numCountriesInRegion = len(data.loc[data['Region'] == region])\n",
        "    avgHappinessScorePerRegion = happinessRankSum/numCountriesInRegion;\n",
        "    dict1 = {'Region': region, 'Happiness Rank Per Region': avgHappinessScorePerRegion, 'numCountriesInRegion': numCountriesInRegion};\n",
        "    rows_list.append(dict1)"
      ],
      "execution_count": null,
      "outputs": []
    },
    {
      "cell_type": "code",
      "metadata": {
        "id": "lwDCWPcoBKhO"
      },
      "source": [
        "df = pd.DataFrame(rows_list)\n",
        "df.sort_values(['Happiness Rank Per Region'], ascending=True, inplace=True)\n",
        "df"
      ],
      "execution_count": null,
      "outputs": []
    },
    {
      "cell_type": "code",
      "metadata": {
        "id": "6knyd7HwBS7E"
      },
      "source": [
        "plt.figure(figsize=(10,10))\n",
        "ax = sns.barplot(df['Region'], df['Happiness Rank Per Region'])\n",
        "ax.set_xticklabels(ax.get_xticklabels(), rotation=40, ha=\"right\")"
      ],
      "execution_count": null,
      "outputs": []
    }
  ]
}